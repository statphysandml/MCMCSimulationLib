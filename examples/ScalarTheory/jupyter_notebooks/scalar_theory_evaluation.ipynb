{
 "cells": [
  {
   "cell_type": "code",
   "execution_count": null,
   "id": "522207a1",
   "metadata": {},
   "outputs": [],
   "source": [
    "import numpy as np\n",
    "import pandas as pd\n",
    "\n",
    "from mcmctools.utils.utils import linspace_rp_intervals\n",
    "from mcmctools.evaluation_module import EvaluationModule"
   ]
  },
  {
   "cell_type": "code",
   "execution_count": null,
   "id": "3ee71ee7",
   "metadata": {},
   "outputs": [],
   "source": [
    "evaluation_module = EvaluationModule(sim_base_dir=\"../\", rel_data_path=\"data/ScalarTheorySimulation/\", rel_results_path=\"results/ScalarTheorySimulation/\",\n",
    "                                     running_parameter_kind=None,\n",
    "                                     running_parameter=\"kappa\",\n",
    "                                     rp_keys=linspace_rp_intervals(0.22, 0.3, 9))"
   ]
  },
  {
   "cell_type": "code",
   "execution_count": null,
   "id": "6efa0a05",
   "metadata": {},
   "outputs": [],
   "source": [
    "expectation_values = evaluation_module.load_expectation_values_from_file()\n",
    "expectation_values"
   ]
  },
  {
   "cell_type": "code",
   "execution_count": null,
   "id": "f80c82e5",
   "metadata": {},
   "outputs": [],
   "source": [
    "import matplotlib.pyplot as plt"
   ]
  },
  {
   "cell_type": "code",
   "execution_count": null,
   "id": "97d1a96e",
   "metadata": {},
   "outputs": [],
   "source": [
    "fig, ax = plt.subplots(1, 1, figsize=(8, 3))\n",
    "ax.plot(expectation_values[\"Estimate\"][\"BinderCumulant\"].index.values, expectation_values[\"Estimate\"][\"BinderCumulant\"].values)\n",
    "plt.show()"
   ]
  },
  {
   "cell_type": "code",
   "execution_count": null,
   "id": "09c5f85f",
   "metadata": {},
   "outputs": [],
   "source": [
    "fig, ax = plt.subplots(1, 1, figsize=(8, 3))\n",
    "ax.plot(expectation_values[\"Estimate\"][\"MagenticSusceptibility\"])\n",
    "plt.show()"
   ]
  },
  {
   "cell_type": "code",
   "execution_count": null,
   "id": "f8c6c7ee",
   "metadata": {},
   "outputs": [],
   "source": [
    "fig, ax = plt.subplots(1, 1, figsize=(8, 3))\n",
    "ax.plot(expectation_values[\"Estimate\"][\"Mean\"])\n",
    "plt.show()"
   ]
  },
  {
   "cell_type": "code",
   "execution_count": null,
   "id": "98c850ad",
   "metadata": {},
   "outputs": [],
   "source": [
    "fig, ax = plt.subplots(1, 1, figsize=(8, 3))\n",
    "ax.plot(expectation_values[\"Estimate\"][\"AbsMean\"])\n",
    "plt.show()"
   ]
  },
  {
   "cell_type": "markdown",
   "id": "f212a507",
   "metadata": {},
   "source": [
    "Error Comparison"
   ]
  },
  {
   "cell_type": "code",
   "execution_count": null,
   "id": "7552701f",
   "metadata": {},
   "outputs": [],
   "source": [
    "data, sim_params = evaluation_module.load_data_from_file(identifier=\"expectation_value\")\n",
    "\n",
    "evaluation_module.compute_expectation_value(data=data, number_of_measurements=1000, measures=[\"Mean\", \"AbsMean\", \"SecondMoment\", \"Action\"], eval_error_type=\"statistical\")\n",
    "statistical_error = evaluation_module.computed_expectation_values\n",
    "# evaluation_module.compute_expectation_value(data=data, number_of_measurements=1000, measures=[\"Mean\", \"AbsMean\", \"SecondMoment\", \"Action\"], eval_error_type=\"bootstrap\", eval_n_means_bootstrap=200)\n",
    "bootstrap_error = evaluation_module.computed_expectation_values\n",
    "# evaluation_module.compute_expectation_value(data=data, number_of_measurements=1000, measures=[\"Mean\", \"AbsMean\", \"SecondMoment\", \"Action\"], eval_error_type=\"jackknife\")\n",
    "jackknife_error = evaluation_module.computed_expectation_values"
   ]
  },
  {
   "cell_type": "code",
   "execution_count": null,
   "id": "b40f014a",
   "metadata": {},
   "outputs": [],
   "source": [
    "statistical_error"
   ]
  },
  {
   "cell_type": "code",
   "execution_count": null,
   "id": "0396d33d",
   "metadata": {},
   "outputs": [],
   "source": [
    "bootstrap_error"
   ]
  },
  {
   "cell_type": "code",
   "execution_count": null,
   "id": "2d208817",
   "metadata": {},
   "outputs": [],
   "source": [
    "jackknife_error"
   ]
  },
  {
   "cell_type": "code",
   "execution_count": null,
   "id": "10f7309c",
   "metadata": {},
   "outputs": [],
   "source": [
    "fig, ax = plt.subplots(1, 1, figsize=(8, 3))\n",
    "ax.plot(statistical_error[\"Std\"][\"Mean\"])\n",
    "ax.plot(bootstrap_error[\"Std\"][\"Mean\"])\n",
    "ax.plot(jackknife_error[\"Std\"][\"Mean\"])\n",
    "plt.show()"
   ]
  },
  {
   "cell_type": "code",
   "execution_count": null,
   "id": "b5a06caf",
   "metadata": {},
   "outputs": [],
   "source": [
    "fig, ax = plt.subplots(1, 1, figsize=(8, 3))\n",
    "ax.plot(statistical_error[\"Std\"][\"SecondMoment\"])\n",
    "ax.plot(bootstrap_error[\"Std\"][\"SecondMoment\"])\n",
    "ax.plot(jackknife_error[\"Std\"][\"SecondMoment\"])\n",
    "plt.show()"
   ]
  },
  {
   "cell_type": "code",
   "execution_count": null,
   "id": "d03d253c",
   "metadata": {},
   "outputs": [],
   "source": [
    "fig, ax = plt.subplots(1, 1, figsize=(8, 3))\n",
    "ax.plot(statistical_error[\"Std\"][\"Mean\"] - jackknife_error[\"Std\"][\"Mean\"])\n",
    "plt.show()"
   ]
  },
  {
   "cell_type": "code",
   "execution_count": null,
   "id": "14e90d78",
   "metadata": {},
   "outputs": [],
   "source": [
    "configs.groupby(\"kappa\").apply(lambda x: (np.power(x, 2).mean(axis=1) - np.power(x.mean(axis=1), 2)).mean())"
   ]
  },
  {
   "cell_type": "code",
   "execution_count": null,
   "id": "3c6753c0",
   "metadata": {},
   "outputs": [],
   "source": [
    "configs.iloc[-1].mean().power(2)"
   ]
  },
  {
   "cell_type": "code",
   "execution_count": null,
   "id": "04e141ed",
   "metadata": {},
   "outputs": [],
   "source": [
    "configs.groupby(\"kappa\").apply(lambda x: (1.0 - np.power(x, 4).mean(axis=1) / (3.0 * np.power(np.power(x, 2).mean(axis=1), 2))).mean())"
   ]
  },
  {
   "cell_type": "code",
   "execution_count": null,
   "id": "fba7d853",
   "metadata": {},
   "outputs": [],
   "source": []
  },
  {
   "cell_type": "code",
   "execution_count": null,
   "id": "85304afc",
   "metadata": {},
   "outputs": [],
   "source": []
  },
  {
   "cell_type": "code",
   "execution_count": null,
   "id": "51d808e5",
   "metadata": {},
   "outputs": [],
   "source": []
  }
 ],
 "metadata": {
  "kernelspec": {
   "display_name": "Python 3",
   "language": "python",
   "name": "python3"
  },
  "language_info": {
   "codemirror_mode": {
    "name": "ipython",
    "version": 3
   },
   "file_extension": ".py",
   "mimetype": "text/x-python",
   "name": "python",
   "nbconvert_exporter": "python",
   "pygments_lexer": "ipython3",
   "version": "3.7.4"
  }
 },
 "nbformat": 4,
 "nbformat_minor": 5
}
